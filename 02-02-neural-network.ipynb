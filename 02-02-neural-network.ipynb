{
 "cells": [
  {
   "cell_type": "markdown",
   "metadata": {},
   "source": [
    "# 인공신경망(artificial neural network)"
   ]
  },
  {
   "cell_type": "markdown",
   "metadata": {},
   "source": [
    "## 생각해 볼 문제\n",
    "\n",
    "**문제 1)** 다음의 경우에서, $x$가 7일 때, $y$의 값은 얼마입니까?\n",
    "\n",
    "|**$x$**|**$y$**|\n",
    "|---|---|---|\n",
    "|0|2|\n",
    "|1|3|\n",
    "|2|6|\n",
    "|3|11|\n",
    "|4|18|\n",
    "|5|27|\n",
    "|6|38|\n",
    "|7|?|\n",
    "|8|66|\n",
    "\n",
    "**문제 2)** 위의 관계를 선형 회귀식으로 나타낼 수 있습니까?"
   ]
  },
  {
   "cell_type": "markdown",
   "metadata": {},
   "source": [
    "# 코드\n",
    "\n",
    "**코드 1)** \"문제 1\"을 선형 회귀 프로그램으로 풀어봅니다."
   ]
  },
  {
   "cell_type": "code",
   "execution_count": 64,
   "metadata": {},
   "outputs": [
    {
     "name": "stdout",
     "output_type": "stream",
     "text": [
      "x=7 y=? [[ 0.43987903]]\n",
      "------------------------------------\n",
      "W [[ 0.66243857]]\n",
      "b [-0.02382797]\n",
      "loss 0.0375111\n"
     ]
    },
    {
     "data": {
      "image/png": "[encoded data removed]",
      "text/plain": [
       "<matplotlib.figure.Figure at 0x7ff7f0ebd080>"
      ]
     },
     "metadata": {},
     "output_type": "display_data"
    }
   ],
   "source": [
    "import tensorflow as tf\n",
    "import matplotlib.pyplot as plt\n",
    "\n",
    "W = tf.Variable(tf.zeros([1, 1]))\n",
    "b = tf.Variable(tf.zeros([1]))\n",
    "\n",
    "x = tf.placeholder(tf.float32, [None, 1])\n",
    "y = tf.placeholder(tf.float32, [None, 1])\n",
    "\n",
    "# 데이터를 정규화(normalize)하는 것이 중요합니다.\n",
    "x_data = [[0.0], \n",
    "          [0.1], \n",
    "          [0.2], \n",
    "          [0.3], \n",
    "          [0.4], \n",
    "          [0.5], \n",
    "          [0.6], \n",
    "          [0.8]]\n",
    "y_data = [[.02], \n",
    "          [.03], \n",
    "          [.06], \n",
    "          [.11], \n",
    "          [.18], \n",
    "          [.27], \n",
    "          [.38], \n",
    "          [.66]]\n",
    "\n",
    "model = tf.matmul(x, W) + b\n",
    "loss = tf.reduce_sum(tf.square(model - y))\n",
    "\n",
    "optimizer = tf.train.GradientDescentOptimizer(0.01)\n",
    "train = optimizer.minimize(loss)\n",
    "\n",
    "sess = tf.Session()\n",
    "init = tf.global_variables_initializer()\n",
    "sess.run(init)\n",
    "\n",
    "for i in range(200):\n",
    "    sess.run(train, feed_dict={x: x_data, y: y_data})\n",
    "\n",
    "print(\"x=7\", \"y=?\",  sess.run(model, feed_dict={x: [[.7]]}))\n",
    "\n",
    "print(\"------------------------------------\")\n",
    "print(\"W\", sess.run(W))\n",
    "print(\"b\", sess.run(b))\n",
    "print(\"loss\", sess.run(loss, feed_dict={x: x_data, y: y_data}))\n",
    "\n",
    "%matplotlib inline\n",
    "y_ = sess.run(model, feed_dict={x: x_data})\n",
    "plt.plot(x_data, y_data, 'ro')\n",
    "plt.plot(x_data, y_)\n",
    "plt.show()"
   ]
  },
  {
   "cell_type": "markdown",
   "metadata": {},
   "source": [
    "\"**코드 2)** 문제 1\"을 신경망 프로그램으로 풀어봅니다."
   ]
  },
  {
   "cell_type": "code",
   "execution_count": 118,
   "metadata": {},
   "outputs": [
    {
     "name": "stdout",
     "output_type": "stream",
     "text": [
      "x=7 y=? [[ 0.52444577]]\n",
      "------------------------------------\n",
      "W1 [[ 0.5375073   0.55929071 -0.84682059  0.7096402  -0.95135283  0.30052352\n",
      "  -0.21535921 -0.29589343  0.54455209  0.08900868]]\n",
      "W2 [[ 0.36884078]\n",
      " [ 0.32978484]\n",
      " [-0.77960706]\n",
      " [ 1.17369366]\n",
      " [-0.38263774]\n",
      " [-0.33719748]\n",
      " [ 0.39680076]\n",
      " [-0.82311153]\n",
      " [-0.47004855]\n",
      " [-0.51503998]]\n",
      "b1 [-0.03867738 -0.04682932  0.         -0.26978603  0.         -0.24149601\n",
      "  0.          0.         -0.43742236 -0.07845309]\n",
      "b2 [ 0.019881]\n",
      "loss 0.00132997\n"
     ]
    },
    {
     "data": {
      "image/png": "[encoded data removed]",
      "text/plain": [
       "<matplotlib.figure.Figure at 0x7ff7d839a5c0>"
      ]
     },
     "metadata": {},
     "output_type": "display_data"
    }
   ],
   "source": [
    "import tensorflow as tf\n",
    "import matplotlib.pyplot as plt\n",
    "\n",
    "# 신경망에서는 가중치를 '0'이 아니라 난수로 초기화해야만 학습이 가능합니다.\n",
    "W1 = tf.Variable(tf.random_uniform([1, 10], -1, 1))\n",
    "b1 = tf.Variable(tf.zeros([10]))\n",
    "W2 = tf.Variable(tf.random_uniform([10, 1], -1, 1))\n",
    "b2 = tf.Variable(tf.zeros([1]))\n",
    "\n",
    "x = tf.placeholder(tf.float32, [None, 1])\n",
    "y = tf.placeholder(tf.float32, [None, 1])\n",
    "\n",
    "x_data = [[0.0], \n",
    "          [0.1], \n",
    "          [0.2], \n",
    "          [0.3], \n",
    "          [0.4], \n",
    "          [0.5], \n",
    "          [0.6], \n",
    "          [0.8]]\n",
    "y_data = [[.02], \n",
    "          [.03], \n",
    "          [.06], \n",
    "          [.11], \n",
    "          [.18], \n",
    "          [.27], \n",
    "          [.38], \n",
    "          [.66]]\n",
    "\n",
    "L1 = tf.nn.relu(tf.matmul(x, W1) + b1)\n",
    "\n",
    "model = tf.matmul(L1, W2) + b2\n",
    "loss = tf.reduce_sum(tf.square(model - y))\n",
    "\n",
    "optimizer = tf.train.GradientDescentOptimizer(0.01)\n",
    "train = optimizer.minimize(loss)\n",
    "\n",
    "sess = tf.Session()\n",
    "init = tf.global_variables_initializer()\n",
    "sess.run(init)\n",
    "\n",
    "for i in range(10000):\n",
    "    sess.run(train, feed_dict={x: x_data, y: y_data})\n",
    "\n",
    "print(\"x=7\", \"y=?\",  sess.run(model, feed_dict={x: [[.7]]}))\n",
    "\n",
    "print(\"------------------------------------\")\n",
    "print(\"W1\", sess.run(W1))\n",
    "print(\"W2\", sess.run(W2))\n",
    "print(\"b1\", sess.run(b1))\n",
    "print(\"b2\", sess.run(b2))\n",
    "print(\"loss\", sess.run(loss, feed_dict={x: x_data, y: y_data}))\n",
    "\n",
    "%matplotlib inline\n",
    "y_ = sess.run(model, feed_dict={x: x_data})\n",
    "plt.plot(x_data, y_data, 'ro')\n",
    "plt.plot(x_data, y_)\n",
    "plt.show()"
   ]
  },
  {
   "cell_type": "markdown",
   "metadata": {},
   "source": [
    "**신경망을 통해서 비선형의 문제를 풀 수 있습니다.**"
   ]
  },
  {
   "cell_type": "markdown",
   "metadata": {},
   "source": [
    "\"**코드 3)** 문제 1\"을 다층 신경망 프로그램으로 풀어봅니다."
   ]
  },
  {
   "cell_type": "code",
   "execution_count": 116,
   "metadata": {},
   "outputs": [
    {
     "name": "stdout",
     "output_type": "stream",
     "text": [
      "x=7 y=? [[ 0.52002245]]\n",
      "------------------------------------\n",
      "W1 [[-0.07586861 -0.4049499   0.45395193  0.9920547  -0.91539931  0.77438051\n",
      "   0.60203791 -0.14035439 -0.27673721  1.0105778 ]]\n",
      "W2 [[ 0.35578322 -0.56802201 -0.09509635 -0.0987792  -0.38431835  0.74238276\n",
      "  -0.70493937  0.46592617  0.22398949 -0.85181737]\n",
      " [ 0.30016255  0.3586421  -0.40471935 -0.31304264 -0.44059229 -0.1701057\n",
      "   0.12751222 -0.14494371 -0.51701784 -0.26338601]\n",
      " [-0.77599692 -0.73140311  0.47941309  0.98313236  0.05861426  0.56292576\n",
      "  -0.80430323  0.10536575  0.78865772 -0.34722877]\n",
      " [-0.92458844  0.06487604 -0.27961889 -0.64384389  0.60167342  1.01069856\n",
      "   0.69319147  0.35933554 -0.64002275 -0.70548749]\n",
      " [-0.48266554  0.11959291 -0.43488359  0.93410158  0.25272298 -0.70943737\n",
      "  -0.37772965 -0.54861355  0.43795609 -0.09187484]\n",
      " [ 0.8479259  -0.46652427  0.01416314 -0.16250961  0.27409267  0.66534984\n",
      "   0.92366552 -0.49259511  0.52642715  0.66605616]\n",
      " [-0.8423171  -0.83650476  0.34100148 -0.94465357 -0.68674415 -0.76230216\n",
      "   0.43956661 -0.43146941  0.52443898  0.61005282]\n",
      " [ 0.77867341 -0.31664991 -0.04404306  0.20365453 -0.11573172  0.12653637\n",
      "  -0.69063258  0.14566898 -0.42562914 -0.83469915]\n",
      " [ 0.46201563 -0.58767843 -0.45545912 -0.79403996 -0.23714805  0.07196641\n",
      "   0.72191572 -0.06461263 -0.64614511 -0.53380609]\n",
      " [-0.79189205 -0.11228715  0.69219029  0.74874717  0.39846852 -0.21446019\n",
      "  -0.75514019  0.94154102  0.154139   -0.59338331]]\n",
      "W3 [[ 0.54389238]\n",
      " [-0.94896996]\n",
      " [ 0.51825577]\n",
      " [ 0.80355018]\n",
      " [-0.22505569]\n",
      " [ 0.73278052]\n",
      " [-0.49879065]\n",
      " [ 0.84162313]\n",
      " [-0.75698841]\n",
      " [-0.29192543]]\n",
      "b1 [ 0.          0.         -0.25146294  0.09013545  0.         -0.13660713\n",
      " -0.01161614  0.          0.         -0.15941314]\n",
      "b2 [ 0.         -0.00350189 -0.08687837 -0.04919521  0.00079805 -0.016861\n",
      " -0.03423407 -0.0156937  -0.15391803  0.        ]\n",
      "b3 [-0.0197454]\n",
      "loss 1.41836e-05\n"
     ]
    },
    {
     "data": {
      "image/png": "[encoded data removed]",
      "text/plain": [
       "<matplotlib.figure.Figure at 0x7ff7d16774e0>"
      ]
     },
     "metadata": {},
     "output_type": "display_data"
    },
    {
     "data": {
      "image/png": "[encoded data removed]",
      "text/plain": [
       "<matplotlib.figure.Figure at 0x7ff7d1729048>"
      ]
     },
     "metadata": {},
     "output_type": "display_data"
    },
    {
     "data": {
      "image/png": "[encoded data removed]",
      "text/plain": [
       "<matplotlib.figure.Figure at 0x7ff7d13f6518>"
      ]
     },
     "metadata": {},
     "output_type": "display_data"
    },
    {
     "data": {
      "image/png": "[encoded data removed]",
      "text/plain": [
       "<matplotlib.figure.Figure at 0x7ff7d8e78160>"
      ]
     },
     "metadata": {},
     "output_type": "display_data"
    },
    {
     "data": {
      "image/png": "[encoded data removed]",
      "text/plain": [
       "<matplotlib.figure.Figure at 0x7ff7f12adeb8>"
      ]
     },
     "metadata": {},
     "output_type": "display_data"
    },
    {
     "data": {
      "image/png": "[encoded data removed]",
      "text/plain": [
       "<matplotlib.figure.Figure at 0x7ff7d89b5da0>"
      ]
     },
     "metadata": {},
     "output_type": "display_data"
    }
   ],
   "source": [
    "import tensorflow as tf\n",
    "import matplotlib.pyplot as plt\n",
    "\n",
    "W1 = tf.Variable(tf.random_uniform([1, 10], -1, 1))\n",
    "b1 = tf.Variable(tf.zeros([10]))\n",
    "W2 = tf.Variable(tf.random_uniform([10, 10], -1, 1))\n",
    "b2 = tf.Variable(tf.zeros([10]))\n",
    "W3 = tf.Variable(tf.random_uniform([10, 1], -1, 1))\n",
    "b3 = tf.Variable(tf.zeros([1]))\n",
    "\n",
    "x = tf.placeholder(tf.float32, [None, 1])\n",
    "y = tf.placeholder(tf.float32, [None, 1])\n",
    "\n",
    "x_data = [[0.0], \n",
    "          [0.1], \n",
    "          [0.2], \n",
    "          [0.3], \n",
    "          [0.4], \n",
    "          [0.5], \n",
    "          [0.6], \n",
    "          [0.8]]\n",
    "y_data = [[.02], \n",
    "          [.03], \n",
    "          [.06], \n",
    "          [.11], \n",
    "          [.18], \n",
    "          [.27], \n",
    "          [.38], \n",
    "          [.66]]\n",
    "\n",
    "L1 = tf.nn.relu(tf.matmul(x, W1) + b1)\n",
    "L2 = tf.nn.relu(tf.matmul(L1, W2) + b2)\n",
    "\n",
    "model = tf.matmul(L2, W3) + b3\n",
    "loss = tf.reduce_sum(tf.square(model - y))\n",
    "\n",
    "optimizer = tf.train.GradientDescentOptimizer(0.01)\n",
    "train = optimizer.minimize(loss)\n",
    "\n",
    "sess = tf.Session()\n",
    "init = tf.global_variables_initializer()\n",
    "sess.run(init)\n",
    "\n",
    "for i in range(10000):\n",
    "    sess.run(train, feed_dict={x: x_data, y: y_data})\n",
    "\n",
    "print(\"x=7\", \"y=?\",  sess.run(model, feed_dict={x: [[.7]]}))\n",
    "\n",
    "print(\"------------------------------------\")\n",
    "print(\"W1\", sess.run(W1))\n",
    "print(\"W2\", sess.run(W2))\n",
    "print(\"W3\", sess.run(W3))\n",
    "print(\"b1\", sess.run(b1))\n",
    "print(\"b2\", sess.run(b2))\n",
    "print(\"b3\", sess.run(b3))\n",
    "print(\"loss\", sess.run(loss, feed_dict={x: x_data, y: y_data}))\n",
    "\n",
    "%matplotlib inline\n",
    "y_ = sess.run(model, feed_dict={x: x_data})\n",
    "plt.plot(x_data, y_data, 'ro')\n",
    "plt.plot(x_data, y_)\n",
    "plt.show()\n",
    "\n",
    "import matplotlib\n",
    "import numpy as np\n",
    "\n",
    "%matplotlib inline\n",
    "plt.imshow(x_data)\n",
    "plt.show()\n",
    "\n",
    "%matplotlib inline\n",
    "plt.imshow(y_data)\n",
    "plt.show()\n",
    "\n",
    "%matplotlib inline\n",
    "plt.imshow(sess.run(W1))\n",
    "plt.show()\n",
    "\n",
    "%matplotlib inline\n",
    "plt.imshow(sess.run(W2))\n",
    "plt.show()\n",
    "\n",
    "%matplotlib inline\n",
    "plt.imshow(sess.run(W3))\n",
    "plt.show()"
   ]
  },
  {
   "cell_type": "markdown",
   "metadata": {},
   "source": [
    "**보다 좋은 결과를 만들기 위하여, 신경망을 여러 층으로 만들 수 있습니다.**"
   ]
  }
 ],
 "metadata": {
  "kernelspec": {
   "display_name": "Python 3",
   "language": "python",
   "name": "python3"
  },
  "language_info": {
   "codemirror_mode": {
    "name": "ipython",
    "version": 3
   },
   "file_extension": ".py",
   "mimetype": "text/x-python",
   "name": "python",
   "nbconvert_exporter": "python",
   "pygments_lexer": "ipython3",
   "version": "3.6.1"
  }
 },
 "nbformat": 4,
 "nbformat_minor": 2
}
