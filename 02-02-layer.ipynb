{
 "cells": [
  {
   "cell_type": "markdown",
   "metadata": {},
   "source": [
    "# Artificial neural network - Layer"
   ]
  },
  {
   "cell_type": "markdown",
   "metadata": {},
   "source": [
    "## Single Layer\n",
    "\n",
    "![single-layer](./images/single-layer-00.png)"
   ]
  },
  {
   "cell_type": "markdown",
   "metadata": {},
   "source": [
    "## Multi Layer\n",
    "\n",
    "### Placeholder: x, y\n",
    "![multi-layer](./images/multi-layer-00.png)\n",
    "### Layer / Node\n",
    "![multi-layer](./images/multi-layer-01.png)\n",
    "### Variable: W, b\n",
    "![multi-layer](./images/multi-layer-02.png)\n",
    "### Broadcasting\n",
    "![multi-layer](./images/multi-layer-03.png)\n",
    "### Activation Function\n",
    "![multi-layer](./images/multi-layer-04.png)\n",
    "### Variable - Initialization\n",
    "![multi-layer](./images/multi-layer-05.png)\n",
    "### Variable - Training\n",
    "![multi-layer](./images/multi-layer-06.png)\n",
    "### Prediction\n",
    "![multi-layer](./images/multi-layer-07.png)"
   ]
  }
 ],
 "metadata": {
  "kernelspec": {
   "display_name": "Python 3",
   "language": "python",
   "name": "python3"
  },
  "language_info": {
   "codemirror_mode": {
    "name": "ipython",
    "version": 3
   },
   "file_extension": ".py",
   "mimetype": "text/x-python",
   "name": "python",
   "nbconvert_exporter": "python",
   "pygments_lexer": "ipython3",
   "version": "3.6.1"
  }
 },
 "nbformat": 4,
 "nbformat_minor": 2
}
