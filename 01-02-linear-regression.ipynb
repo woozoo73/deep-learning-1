{
 "cells": [
  {
   "cell_type": "markdown",
   "metadata": {},
   "source": [
    "# 선형 회귀(linear regression)"
   ]
  },
  {
   "cell_type": "markdown",
   "metadata": {},
   "source": [
    "## 회귀 분석(regression analysis)\n",
    "종속 변수 $y$에 대한 독립 변수들의 **관계**를 찾는 것\n",
    "\n",
    "$$y = f_1(x_1) + f_2(x_2) + ... +  f_n(x_n)$$\n",
    "\n",
    "## 선형 회귀(linear regression)\n",
    "종속 변수 $y$에 대한 독립 변수들($x_1, x_2, ..., x_n$)의 **선형 관계**를 찾는 것\n",
    "\n",
    "$$y = a_1 \\times x_1 + a_2 \\times x_2 + ... + a_n \\times x_n + b$$\n",
    "\n",
    "## 단순 선형 회귀(simple linear regression)\n",
    "종속 변수 $y$에 대한 독립 변수 $x$의 선형 관계를 찾는 것: **독립 변수가 1개**\n",
    "\n",
    "# $$\n",
    "    y = a \\times x + b\n",
    "$$\n",
    "\n",
    "![회귀분석](https://upload.wikimedia.org/wikipedia/commons/b/be/Normdist_regression.png)\n",
    "\n",
    "다중 선형 회귀(multiple linear regression)도 **형렬(matrix)을 사용하면, 단순 선형 회귀로 표현할 수 있습니다.**\n",
    "\n",
    "$$y =\n",
    "\\begin{pmatrix}\n",
    "    a_1 &\n",
    "    a_2 &\n",
    "    \\cdots &\n",
    "    a_n\n",
    "\\end{pmatrix}\n",
    "\\times\n",
    "\\begin{pmatrix}\n",
    "    x_1 \\\\\n",
    "    x_2 \\\\\n",
    "    \\vdots \\\\\n",
    "    x_n\n",
    "\\end{pmatrix}\n",
    "+ b\n",
    "$$\n",
    "\n",
    "***\n",
    "\n",
    "# $$\n",
    "    y = A \\bullet X + b\n",
    "$$\n",
    "\n",
    "$$\n",
    "\\begin{cases}\n",
    "    A = \n",
    "    \\begin{pmatrix}\n",
    "        a_1 &\n",
    "        a_2 &\n",
    "        \\cdots &\n",
    "        a_n\n",
    "    \\end{pmatrix}\n",
    "\\\\\n",
    "    X =\n",
    "    \\begin{pmatrix}\n",
    "        x_1 \\\\\n",
    "        x_2 \\\\\n",
    "        \\vdots \\\\\n",
    "        x_n\n",
    "    \\end{pmatrix}\n",
    "\\end{cases}\n",
    "$$"
   ]
  },
  {
   "cell_type": "markdown",
   "metadata": {},
   "source": [
    "## 생각해 볼 문제\n",
    "\n",
    "**문제 1)** 다음의 경우에서, $x$가 4일 때, $y$의 값은 얼마입니까?\n",
    "\n",
    "|**$x$**|**$y$**|\n",
    "|---|---|---|\n",
    "|0|3|\n",
    "|1|5|\n",
    "|2|7|\n",
    "|3|9|\n",
    "|4|?|\n",
    "\n",
    "**문제 2)** 위의 관계를 선형 회귀식으로 나타낼 수 있습니까?\n",
    "\n",
    "**문제 3)** 다음의 경우에서, $x_1$, $x_2$가 각각 2, 4일 때, $y$의 값은 얼마입니까?\n",
    "\n",
    "|**$x_1$**|**$x_2$**|**$y$**|\n",
    "|---|---|---|\n",
    "|0|0|3\n",
    "|0|1|6\n",
    "|0|2|9\n",
    "|0|3|12\n",
    "|0|4|15\n",
    "|1|0|5\n",
    "|1|1|8\n",
    "|1|2|11\n",
    "|1|3|14\n",
    "|1|4|17\n",
    "|2|0|7\n",
    "|2|1|10\n",
    "|2|2|13\n",
    "|2|3|16\n",
    "|2|4|?\n",
    "|3|0|9\n",
    "|3|1|12\n",
    "|3|2|15\n",
    "|3|3|18\n",
    "|3|4|21\n",
    "\n",
    "**문제 4)** 위의 관계를 선형 회귀식으로 나타낼 수 있습니까?\n",
    "\n",
    "**문제 5)** 아래와 같이 데이터가 부분적인 경우에도 값을 추정할 수 있을까요? (취소선으로 표시된 데이터가 누락되었다고 가정합니다.)\n",
    "\n",
    "|**$x_1$**|**$x_2$**|**$y$**|\n",
    "|---|---|---|\n",
    "|~~0~~|~~0~~|~~3~~\n",
    "|0|1|6\n",
    "|0|2|9\n",
    "|~~0~~|3|12\n",
    "|0|~~4~~|15\n",
    "|1|0|5\n",
    "|1|1|8\n",
    "|1|~~2~~|11\n",
    "|1|3|14\n",
    "|~~1~~|~~4~~|~~17~~\n",
    "|2|0|7\n",
    "|2|~~1~~|10\n",
    "|2|2|13\n",
    "|~~2~~|3|16\n",
    "|2|4|?\n",
    "|3|0|9\n",
    "|3|1|12\n",
    "|~~3~~|~~2~~|~~15~~\n",
    "|~~3~~|3|18\n",
    "|3|4|21\n",
    "\n",
    "**문제 6)** 캠릿브지 대학의 연구결과에 따르면, 통계적으로 결혼 생활이 사람의 수명을 높인다고 합니다. 결혼 연령과 수명의 관계를 조사한 통계 데이터가 다음과 같다고 했을 때, 40세에 결혼할 경우 기대 수명은 얼마입니까? (\"NA\"는 미혼입니다.) \n",
    "\n",
    "|**결혼 연령**|**수명**|\n",
    "|---|---|\n",
    "|20|85|\n",
    "|30|80|\n",
    "|40|? |\n",
    "|50|70|\n",
    "|60|65|\n",
    "|NA|60|\n",
    "\n",
    "**문제 7)** 위의 관계를 선형 회귀식으로 나타낼 수 있습니까? (\"결혼 연령\"을 $x$, \"기대 수명\"을 $y$로 표현하세요.)\n",
    "\n",
    "**문제 8)** 37세에 결혼했을 때 기대 수명은 얼마입니까?\n",
    "\n",
    "**문제 9)** 스포텐드 대학의 추가적인 연구결과에 따르면, 결혼 생활에서 상대 부모를 부양하는 경우에는 오히려 수명이 짧다고 합니다. 40세에 결혼하여 상대 부모를 부양하는 경우에 기대 수명은 얼마입니까? (\"상대 부모 부양 여부\"에서 \"0\"이 미부양, \"1\"이 부양입니다.)\n",
    "\n",
    "|**결혼 연령**|**상대 부모 부양 여부**|**수명**|\n",
    "|---|---|\n",
    "|20|0|85|\n",
    "|20|1|40|\n",
    "|30|0|80|\n",
    "|30|1|45|\n",
    "|40|0|75|\n",
    "|40|1|? |\n",
    "|50|0|70|\n",
    "|50|1|55|\n",
    "|60|0|65|\n",
    "|60|1|60|\n",
    "|NA|0|60|\n",
    "\n",
    "**문제 10)** 위의 관계를 선형 회귀식으로 나타낼 수 있습니까? (\"결혼 연령\"을 $x_1$, \"상대 부모 부양 여부\"를 $x_2$, \"기대 수명\"을 $y$로 표현하세요.) 나타낼 수 없다면 이유는 무엇일까요?"
   ]
  },
  {
   "cell_type": "markdown",
   "metadata": {},
   "source": [
    "# 아래는 수정중입니다."
   ]
  },
  {
   "cell_type": "code",
   "execution_count": 26,
   "metadata": {
    "collapsed": true
   },
   "outputs": [],
   "source": [
    "import numpy as np\n",
    "\n",
    "num_points = 10\n",
    "vectors_set = []\n",
    "\n",
    "for i in range(num_points):\n",
    "    x1 = np.random.normal(1.0, 0.5)\n",
    "    y1 = x1 * 2.0 + 3.0 + np.random.normal(0.0, 0.5)\n",
    "    vectors_set.append([x1, y1])\n",
    "    \n",
    "x_data = [v[0] for v in vectors_set]\n",
    "y_data = [v[1] for v in vectors_set]"
   ]
  },
  {
   "cell_type": "code",
   "execution_count": 20,
   "metadata": {},
   "outputs": [
    {
     "name": "stdout",
     "output_type": "stream",
     "text": [
      "[-0.0651080794209824, 0.7628897967762729, 1.7317701658236464, 1.168581841932256, 0.6440546971823045, 2.158905607648704, 0.9227004945599168, 1.1860552969179474, 0.2198894705479243, 0.8230699813642253]\n",
      "[2.537997352355106, 4.094203789715634, 5.71457800446918, 4.930092967423108, 4.006194992513429, 7.21936143704344, 3.9094300962827986, 5.834437046210534, 3.4147230549844703, 5.491847152633533]\n",
      "[[-0.0651080794209824, 2.537997352355106], [0.7628897967762729, 4.094203789715634], [1.7317701658236464, 5.71457800446918], [1.168581841932256, 4.930092967423108], [0.6440546971823045, 4.006194992513429], [2.158905607648704, 7.21936143704344], [0.9227004945599168, 3.9094300962827986], [1.1860552969179474, 5.834437046210534], [0.2198894705479243, 3.4147230549844703], [0.8230699813642253, 5.491847152633533]]\n"
     ]
    }
   ],
   "source": [
    "print(x_data)\n",
    "print(y_data)\n",
    "print(vectors_set)"
   ]
  },
  {
   "cell_type": "code",
   "execution_count": 25,
   "metadata": {},
   "outputs": [
    {
     "data": {
      "image/png": "[encoded data removed]",
      "text/plain": [
       "<matplotlib.figure.Figure at 0x7f6f6a508d68>"
      ]
     },
     "metadata": {},
     "output_type": "display_data"
    }
   ],
   "source": [
    "import matplotlib.pyplot as plt\n",
    "\n",
    "%matplotlib inline\n",
    "\n",
    "plt.plot(x_data, y_data, 'or')\n",
    "plt.show()"
   ]
  },
  {
   "cell_type": "code",
   "execution_count": null,
   "metadata": {
    "collapsed": true
   },
   "outputs": [],
   "source": []
  }
 ],
 "metadata": {
  "kernelspec": {
   "display_name": "Python 3",
   "language": "python",
   "name": "python3"
  },
  "language_info": {
   "codemirror_mode": {
    "name": "ipython",
    "version": 3
   },
   "file_extension": ".py",
   "mimetype": "text/x-python",
   "name": "python",
   "nbconvert_exporter": "python",
   "pygments_lexer": "ipython3",
   "version": "3.6.1"
  }
 },
 "nbformat": 4,
 "nbformat_minor": 2
}
